{
 "cells": [
  {
   "cell_type": "code",
   "execution_count": 72,
   "id": "2aae573d",
   "metadata": {},
   "outputs": [],
   "source": [
    "import pandas as pd"
   ]
  },
  {
   "cell_type": "code",
   "execution_count": 73,
   "id": "f4c55e8e",
   "metadata": {},
   "outputs": [
    {
     "data": {
      "text/html": [
       "<div>\n",
       "<style scoped>\n",
       "    .dataframe tbody tr th:only-of-type {\n",
       "        vertical-align: middle;\n",
       "    }\n",
       "\n",
       "    .dataframe tbody tr th {\n",
       "        vertical-align: top;\n",
       "    }\n",
       "\n",
       "    .dataframe thead th {\n",
       "        text-align: right;\n",
       "    }\n",
       "</style>\n",
       "<table border=\"1\" class=\"dataframe\">\n",
       "  <thead>\n",
       "    <tr style=\"text-align: right;\">\n",
       "      <th></th>\n",
       "      <th>nome;idade</th>\n",
       "    </tr>\n",
       "  </thead>\n",
       "  <tbody>\n",
       "    <tr>\n",
       "      <th>0</th>\n",
       "      <td>joão;21</td>\n",
       "    </tr>\n",
       "    <tr>\n",
       "      <th>1</th>\n",
       "      <td>andré;22</td>\n",
       "    </tr>\n",
       "    <tr>\n",
       "      <th>2</th>\n",
       "      <td>pedro;23</td>\n",
       "    </tr>\n",
       "  </tbody>\n",
       "</table>\n",
       "</div>"
      ],
      "text/plain": [
       "  nome;idade\n",
       "0    joão;21\n",
       "1   andré;22\n",
       "2   pedro;23"
      ]
     },
     "execution_count": 73,
     "metadata": {},
     "output_type": "execute_result"
    }
   ],
   "source": [
    "df = pd.read_csv(\"nomes_idades.csv\")\n",
    "df\n",
    "\n",
    "#Aqui ele junta as colunas pois nao reconhece o delimitador"
   ]
  },
  {
   "cell_type": "code",
   "execution_count": 74,
   "id": "94311934",
   "metadata": {},
   "outputs": [
    {
     "data": {
      "text/html": [
       "<div>\n",
       "<style scoped>\n",
       "    .dataframe tbody tr th:only-of-type {\n",
       "        vertical-align: middle;\n",
       "    }\n",
       "\n",
       "    .dataframe tbody tr th {\n",
       "        vertical-align: top;\n",
       "    }\n",
       "\n",
       "    .dataframe thead th {\n",
       "        text-align: right;\n",
       "    }\n",
       "</style>\n",
       "<table border=\"1\" class=\"dataframe\">\n",
       "  <thead>\n",
       "    <tr style=\"text-align: right;\">\n",
       "      <th></th>\n",
       "      <th>nome</th>\n",
       "      <th>idade</th>\n",
       "    </tr>\n",
       "  </thead>\n",
       "  <tbody>\n",
       "    <tr>\n",
       "      <th>0</th>\n",
       "      <td>joão</td>\n",
       "      <td>21</td>\n",
       "    </tr>\n",
       "    <tr>\n",
       "      <th>1</th>\n",
       "      <td>andré</td>\n",
       "      <td>22</td>\n",
       "    </tr>\n",
       "    <tr>\n",
       "      <th>2</th>\n",
       "      <td>pedro</td>\n",
       "      <td>23</td>\n",
       "    </tr>\n",
       "  </tbody>\n",
       "</table>\n",
       "</div>"
      ],
      "text/plain": [
       "    nome  idade\n",
       "0   joão     21\n",
       "1  andré     22\n",
       "2  pedro     23"
      ]
     },
     "execution_count": 74,
     "metadata": {},
     "output_type": "execute_result"
    }
   ],
   "source": [
    "df = pd.read_csv(\"nomes_idades.csv\", delimiter=\";\")\n",
    "df"
   ]
  },
  {
   "cell_type": "code",
   "execution_count": 75,
   "id": "2a6a61f5",
   "metadata": {},
   "outputs": [
    {
     "data": {
      "text/html": [
       "<div>\n",
       "<style scoped>\n",
       "    .dataframe tbody tr th:only-of-type {\n",
       "        vertical-align: middle;\n",
       "    }\n",
       "\n",
       "    .dataframe tbody tr th {\n",
       "        vertical-align: top;\n",
       "    }\n",
       "\n",
       "    .dataframe thead th {\n",
       "        text-align: right;\n",
       "    }\n",
       "</style>\n",
       "<table border=\"1\" class=\"dataframe\">\n",
       "  <thead>\n",
       "    <tr style=\"text-align: right;\">\n",
       "      <th></th>\n",
       "      <th>nome</th>\n",
       "      <th>idade</th>\n",
       "    </tr>\n",
       "  </thead>\n",
       "  <tbody>\n",
       "    <tr>\n",
       "      <th>0</th>\n",
       "      <td>joão</td>\n",
       "      <td>21</td>\n",
       "    </tr>\n",
       "    <tr>\n",
       "      <th>1</th>\n",
       "      <td>andré</td>\n",
       "      <td>22</td>\n",
       "    </tr>\n",
       "  </tbody>\n",
       "</table>\n",
       "</div>"
      ],
      "text/plain": [
       "    nome  idade\n",
       "0   joão     21\n",
       "1  andré     22"
      ]
     },
     "execution_count": 75,
     "metadata": {},
     "output_type": "execute_result"
    }
   ],
   "source": [
    "df.head(2)"
   ]
  },
  {
   "cell_type": "code",
   "execution_count": 76,
   "id": "dc3f2b03",
   "metadata": {},
   "outputs": [
    {
     "data": {
      "text/html": [
       "<div>\n",
       "<style scoped>\n",
       "    .dataframe tbody tr th:only-of-type {\n",
       "        vertical-align: middle;\n",
       "    }\n",
       "\n",
       "    .dataframe tbody tr th {\n",
       "        vertical-align: top;\n",
       "    }\n",
       "\n",
       "    .dataframe thead th {\n",
       "        text-align: right;\n",
       "    }\n",
       "</style>\n",
       "<table border=\"1\" class=\"dataframe\">\n",
       "  <thead>\n",
       "    <tr style=\"text-align: right;\">\n",
       "      <th></th>\n",
       "      <th>Aluno</th>\n",
       "      <th>Nota Final (0-100)</th>\n",
       "      <th>Horas de Estudo</th>\n",
       "    </tr>\n",
       "  </thead>\n",
       "  <tbody>\n",
       "    <tr>\n",
       "      <th>0</th>\n",
       "      <td>1</td>\n",
       "      <td>78</td>\n",
       "      <td>10</td>\n",
       "    </tr>\n",
       "    <tr>\n",
       "      <th>1</th>\n",
       "      <td>2</td>\n",
       "      <td>85</td>\n",
       "      <td>12</td>\n",
       "    </tr>\n",
       "    <tr>\n",
       "      <th>2</th>\n",
       "      <td>3</td>\n",
       "      <td>67</td>\n",
       "      <td>5</td>\n",
       "    </tr>\n",
       "    <tr>\n",
       "      <th>3</th>\n",
       "      <td>4</td>\n",
       "      <td>90</td>\n",
       "      <td>14</td>\n",
       "    </tr>\n",
       "    <tr>\n",
       "      <th>4</th>\n",
       "      <td>5</td>\n",
       "      <td>72</td>\n",
       "      <td>8</td>\n",
       "    </tr>\n",
       "    <tr>\n",
       "      <th>5</th>\n",
       "      <td>6</td>\n",
       "      <td>88</td>\n",
       "      <td>13</td>\n",
       "    </tr>\n",
       "    <tr>\n",
       "      <th>6</th>\n",
       "      <td>7</td>\n",
       "      <td>81</td>\n",
       "      <td>11</td>\n",
       "    </tr>\n",
       "    <tr>\n",
       "      <th>7</th>\n",
       "      <td>8</td>\n",
       "      <td>95</td>\n",
       "      <td>16</td>\n",
       "    </tr>\n",
       "    <tr>\n",
       "      <th>8</th>\n",
       "      <td>9</td>\n",
       "      <td>62</td>\n",
       "      <td>4</td>\n",
       "    </tr>\n",
       "    <tr>\n",
       "      <th>9</th>\n",
       "      <td>10</td>\n",
       "      <td>76</td>\n",
       "      <td>9</td>\n",
       "    </tr>\n",
       "    <tr>\n",
       "      <th>10</th>\n",
       "      <td>11</td>\n",
       "      <td>83</td>\n",
       "      <td>12</td>\n",
       "    </tr>\n",
       "    <tr>\n",
       "      <th>11</th>\n",
       "      <td>12</td>\n",
       "      <td>79</td>\n",
       "      <td>10</td>\n",
       "    </tr>\n",
       "    <tr>\n",
       "      <th>12</th>\n",
       "      <td>13</td>\n",
       "      <td>91</td>\n",
       "      <td>15</td>\n",
       "    </tr>\n",
       "    <tr>\n",
       "      <th>13</th>\n",
       "      <td>14</td>\n",
       "      <td>74</td>\n",
       "      <td>7</td>\n",
       "    </tr>\n",
       "    <tr>\n",
       "      <th>14</th>\n",
       "      <td>15</td>\n",
       "      <td>80</td>\n",
       "      <td>11</td>\n",
       "    </tr>\n",
       "    <tr>\n",
       "      <th>15</th>\n",
       "      <td>16</td>\n",
       "      <td>87</td>\n",
       "      <td>13</td>\n",
       "    </tr>\n",
       "    <tr>\n",
       "      <th>16</th>\n",
       "      <td>17</td>\n",
       "      <td>69</td>\n",
       "      <td>6</td>\n",
       "    </tr>\n",
       "    <tr>\n",
       "      <th>17</th>\n",
       "      <td>18</td>\n",
       "      <td>92</td>\n",
       "      <td>14</td>\n",
       "    </tr>\n",
       "    <tr>\n",
       "      <th>18</th>\n",
       "      <td>19</td>\n",
       "      <td>66</td>\n",
       "      <td>5</td>\n",
       "    </tr>\n",
       "    <tr>\n",
       "      <th>19</th>\n",
       "      <td>20</td>\n",
       "      <td>82</td>\n",
       "      <td>12</td>\n",
       "    </tr>\n",
       "    <tr>\n",
       "      <th>20</th>\n",
       "      <td>21</td>\n",
       "      <td>77</td>\n",
       "      <td>9</td>\n",
       "    </tr>\n",
       "    <tr>\n",
       "      <th>21</th>\n",
       "      <td>22</td>\n",
       "      <td>94</td>\n",
       "      <td>15</td>\n",
       "    </tr>\n",
       "    <tr>\n",
       "      <th>22</th>\n",
       "      <td>23</td>\n",
       "      <td>73</td>\n",
       "      <td>8</td>\n",
       "    </tr>\n",
       "    <tr>\n",
       "      <th>23</th>\n",
       "      <td>24</td>\n",
       "      <td>89</td>\n",
       "      <td>14</td>\n",
       "    </tr>\n",
       "    <tr>\n",
       "      <th>24</th>\n",
       "      <td>25</td>\n",
       "      <td>70</td>\n",
       "      <td>6</td>\n",
       "    </tr>\n",
       "    <tr>\n",
       "      <th>25</th>\n",
       "      <td>26</td>\n",
       "      <td>84</td>\n",
       "      <td>12</td>\n",
       "    </tr>\n",
       "    <tr>\n",
       "      <th>26</th>\n",
       "      <td>27</td>\n",
       "      <td>75</td>\n",
       "      <td>7</td>\n",
       "    </tr>\n",
       "    <tr>\n",
       "      <th>27</th>\n",
       "      <td>28</td>\n",
       "      <td>86</td>\n",
       "      <td>13</td>\n",
       "    </tr>\n",
       "    <tr>\n",
       "      <th>28</th>\n",
       "      <td>29</td>\n",
       "      <td>68</td>\n",
       "      <td>6</td>\n",
       "    </tr>\n",
       "    <tr>\n",
       "      <th>29</th>\n",
       "      <td>30</td>\n",
       "      <td>93</td>\n",
       "      <td>15</td>\n",
       "    </tr>\n",
       "  </tbody>\n",
       "</table>\n",
       "</div>"
      ],
      "text/plain": [
       "    Aluno  Nota Final (0-100)  Horas de Estudo\n",
       "0       1                  78               10\n",
       "1       2                  85               12\n",
       "2       3                  67                5\n",
       "3       4                  90               14\n",
       "4       5                  72                8\n",
       "5       6                  88               13\n",
       "6       7                  81               11\n",
       "7       8                  95               16\n",
       "8       9                  62                4\n",
       "9      10                  76                9\n",
       "10     11                  83               12\n",
       "11     12                  79               10\n",
       "12     13                  91               15\n",
       "13     14                  74                7\n",
       "14     15                  80               11\n",
       "15     16                  87               13\n",
       "16     17                  69                6\n",
       "17     18                  92               14\n",
       "18     19                  66                5\n",
       "19     20                  82               12\n",
       "20     21                  77                9\n",
       "21     22                  94               15\n",
       "22     23                  73                8\n",
       "23     24                  89               14\n",
       "24     25                  70                6\n",
       "25     26                  84               12\n",
       "26     27                  75                7\n",
       "27     28                  86               13\n",
       "28     29                  68                6\n",
       "29     30                  93               15"
      ]
     },
     "execution_count": 76,
     "metadata": {},
     "output_type": "execute_result"
    }
   ],
   "source": [
    "df_notas = pd.read_excel(\"notas_estudo.xlsx\")\n",
    "df_notas"
   ]
  },
  {
   "cell_type": "code",
   "execution_count": 77,
   "id": "5fbe00e9",
   "metadata": {},
   "outputs": [
    {
     "name": "stdout",
     "output_type": "stream",
     "text": [
      "    nome  idade\n",
      "0   joão     21\n",
      "1  andré     22\n",
      "2  pedro     23\n"
     ]
    }
   ],
   "source": [
    "df_nomesidades = pd.read_csv(\"nomes_idades.csv\", delimiter=\";\")\n",
    "print(df_nomesidades)\n",
    "df_nomesidades.to_excel(\"nomes_idades.xlsx\", index=False)"
   ]
  },
  {
   "cell_type": "code",
   "execution_count": 78,
   "id": "2ba3cd42",
   "metadata": {},
   "outputs": [
    {
     "name": "stdout",
     "output_type": "stream",
     "text": [
      "    Aluno  Nota Final (0-100)  Horas de Estudo\n",
      "0       1                  78               10\n",
      "1       2                  85               12\n",
      "2       3                  67                5\n",
      "3       4                  90               14\n",
      "4       5                  72                8\n",
      "5       6                  88               13\n",
      "6       7                  81               11\n",
      "7       8                  95               16\n",
      "8       9                  62                4\n",
      "9      10                  76                9\n",
      "10     11                  83               12\n",
      "11     12                  79               10\n",
      "12     13                  91               15\n",
      "13     14                  74                7\n",
      "14     15                  80               11\n",
      "15     16                  87               13\n",
      "16     17                  69                6\n",
      "17     18                  92               14\n",
      "18     19                  66                5\n",
      "19     20                  82               12\n",
      "20     21                  77                9\n",
      "21     22                  94               15\n",
      "22     23                  73                8\n",
      "23     24                  89               14\n",
      "24     25                  70                6\n",
      "25     26                  84               12\n",
      "26     27                  75                7\n",
      "27     28                  86               13\n",
      "28     29                  68                6\n",
      "29     30                  93               15\n"
     ]
    }
   ],
   "source": [
    "df_notasestudos = pd.read_excel(\"notas_estudo.xlsx\")\n",
    "print(df_notasestudos)\n",
    "df_notasestudos.to_csv(\"notas_estudo.csv\", index=False)"
   ]
  },
  {
   "cell_type": "code",
   "execution_count": 79,
   "id": "652a2a58",
   "metadata": {},
   "outputs": [
    {
     "name": "stdout",
     "output_type": "stream",
     "text": [
      "     nome  idade\n",
      "0     Ana     22\n",
      "1   Bruno     35\n",
      "2  Carlos     58\n",
      "3   Diana     41\n",
      "0       Ana\n",
      "1     Bruno\n",
      "2    Carlos\n",
      "3     Diana\n",
      "Name: nome, dtype: object\n"
     ]
    }
   ],
   "source": [
    "dados = {\n",
    "'nome': ['Ana', 'Bruno', 'Carlos', 'Diana'],\n",
    "'idade': [22, 35, 58, 41]\n",
    "}\n",
    "\n",
    "df_nomesidades = pd.DataFrame(dados)\n",
    "\n",
    "print(df_nomesidades)\n",
    "print(df_nomesidades[\"nome\"])"
   ]
  },
  {
   "cell_type": "code",
   "execution_count": 80,
   "id": "d1bce181",
   "metadata": {},
   "outputs": [
    {
     "name": "stdout",
     "output_type": "stream",
     "text": [
      "     nome  idade\n",
      "0     Ana     22\n",
      "1   Bruno     35\n",
      "2  Carlos     58\n",
      "3   Diana     41\n"
     ]
    }
   ],
   "source": [
    "print(df_nomesidades[[\"nome\", \"idade\"]])"
   ]
  },
  {
   "cell_type": "code",
   "execution_count": 81,
   "id": "d2eb3d30",
   "metadata": {},
   "outputs": [
    {
     "data": {
      "text/plain": [
       "nome     Ana\n",
       "idade     22\n",
       "Name: 0, dtype: object"
      ]
     },
     "execution_count": 81,
     "metadata": {},
     "output_type": "execute_result"
    }
   ],
   "source": [
    "df_nomesidades.iloc[0]"
   ]
  },
  {
   "cell_type": "code",
   "execution_count": 82,
   "id": "a73a17d2",
   "metadata": {},
   "outputs": [
    {
     "data": {
      "text/html": [
       "<div>\n",
       "<style scoped>\n",
       "    .dataframe tbody tr th:only-of-type {\n",
       "        vertical-align: middle;\n",
       "    }\n",
       "\n",
       "    .dataframe tbody tr th {\n",
       "        vertical-align: top;\n",
       "    }\n",
       "\n",
       "    .dataframe thead th {\n",
       "        text-align: right;\n",
       "    }\n",
       "</style>\n",
       "<table border=\"1\" class=\"dataframe\">\n",
       "  <thead>\n",
       "    <tr style=\"text-align: right;\">\n",
       "      <th></th>\n",
       "      <th>nome</th>\n",
       "      <th>idade</th>\n",
       "    </tr>\n",
       "  </thead>\n",
       "  <tbody>\n",
       "    <tr>\n",
       "      <th>1</th>\n",
       "      <td>Bruno</td>\n",
       "      <td>35</td>\n",
       "    </tr>\n",
       "    <tr>\n",
       "      <th>2</th>\n",
       "      <td>Carlos</td>\n",
       "      <td>58</td>\n",
       "    </tr>\n",
       "  </tbody>\n",
       "</table>\n",
       "</div>"
      ],
      "text/plain": [
       "     nome  idade\n",
       "1   Bruno     35\n",
       "2  Carlos     58"
      ]
     },
     "execution_count": 82,
     "metadata": {},
     "output_type": "execute_result"
    }
   ],
   "source": [
    "df_nomesidades.iloc[1:3]"
   ]
  },
  {
   "cell_type": "code",
   "execution_count": 83,
   "id": "7beac784",
   "metadata": {},
   "outputs": [
    {
     "data": {
      "text/html": [
       "<div>\n",
       "<style scoped>\n",
       "    .dataframe tbody tr th:only-of-type {\n",
       "        vertical-align: middle;\n",
       "    }\n",
       "\n",
       "    .dataframe tbody tr th {\n",
       "        vertical-align: top;\n",
       "    }\n",
       "\n",
       "    .dataframe thead th {\n",
       "        text-align: right;\n",
       "    }\n",
       "</style>\n",
       "<table border=\"1\" class=\"dataframe\">\n",
       "  <thead>\n",
       "    <tr style=\"text-align: right;\">\n",
       "      <th></th>\n",
       "      <th>nome</th>\n",
       "      <th>idade</th>\n",
       "    </tr>\n",
       "  </thead>\n",
       "  <tbody>\n",
       "    <tr>\n",
       "      <th>1</th>\n",
       "      <td>Bruno</td>\n",
       "      <td>35</td>\n",
       "    </tr>\n",
       "    <tr>\n",
       "      <th>2</th>\n",
       "      <td>Carlos</td>\n",
       "      <td>58</td>\n",
       "    </tr>\n",
       "    <tr>\n",
       "      <th>3</th>\n",
       "      <td>Diana</td>\n",
       "      <td>41</td>\n",
       "    </tr>\n",
       "  </tbody>\n",
       "</table>\n",
       "</div>"
      ],
      "text/plain": [
       "     nome  idade\n",
       "1   Bruno     35\n",
       "2  Carlos     58\n",
       "3   Diana     41"
      ]
     },
     "execution_count": 83,
     "metadata": {},
     "output_type": "execute_result"
    }
   ],
   "source": [
    "df_nomesidades[df_nomesidades[\"idade\"] > 30]"
   ]
  },
  {
   "cell_type": "code",
   "execution_count": 84,
   "id": "41a655cc",
   "metadata": {},
   "outputs": [
    {
     "data": {
      "text/plain": [
       "39.0"
      ]
     },
     "execution_count": 84,
     "metadata": {},
     "output_type": "execute_result"
    }
   ],
   "source": [
    "#Média da coluna idade\n",
    "\n",
    "df_nomesidades[\"idade\"].mean()"
   ]
  },
  {
   "cell_type": "code",
   "execution_count": 85,
   "id": "87c4d30f",
   "metadata": {},
   "outputs": [
    {
     "data": {
      "text/plain": [
       "38.0"
      ]
     },
     "execution_count": 85,
     "metadata": {},
     "output_type": "execute_result"
    }
   ],
   "source": [
    "#Mediana\n",
    "\n",
    "df_nomesidades[\"idade\"].median()"
   ]
  },
  {
   "cell_type": "code",
   "execution_count": 86,
   "id": "b1e7c0e0",
   "metadata": {},
   "outputs": [
    {
     "data": {
      "text/plain": [
       "0    22\n",
       "1    35\n",
       "2    41\n",
       "3    58\n",
       "Name: idade, dtype: int64"
      ]
     },
     "execution_count": 86,
     "metadata": {},
     "output_type": "execute_result"
    }
   ],
   "source": [
    "#Moda\n",
    "\n",
    "df_nomesidades[\"idade\"].mode()"
   ]
  },
  {
   "cell_type": "code",
   "execution_count": 87,
   "id": "640c29c7",
   "metadata": {},
   "outputs": [
    {
     "data": {
      "text/plain": [
       "22"
      ]
     },
     "execution_count": 87,
     "metadata": {},
     "output_type": "execute_result"
    }
   ],
   "source": [
    "#Minìmo\n",
    "\n",
    "df_nomesidades[\"idade\"].min()"
   ]
  },
  {
   "cell_type": "code",
   "execution_count": 88,
   "id": "0f5451e1",
   "metadata": {},
   "outputs": [
    {
     "data": {
      "text/plain": [
       "58"
      ]
     },
     "execution_count": 88,
     "metadata": {},
     "output_type": "execute_result"
    }
   ],
   "source": [
    "#Maximo \n",
    "\n",
    "df_nomesidades[\"idade\"].max()"
   ]
  },
  {
   "cell_type": "code",
   "execution_count": 89,
   "id": "ccc8b258",
   "metadata": {},
   "outputs": [
    {
     "data": {
      "text/html": [
       "<div>\n",
       "<style scoped>\n",
       "    .dataframe tbody tr th:only-of-type {\n",
       "        vertical-align: middle;\n",
       "    }\n",
       "\n",
       "    .dataframe tbody tr th {\n",
       "        vertical-align: top;\n",
       "    }\n",
       "\n",
       "    .dataframe thead th {\n",
       "        text-align: right;\n",
       "    }\n",
       "</style>\n",
       "<table border=\"1\" class=\"dataframe\">\n",
       "  <thead>\n",
       "    <tr style=\"text-align: right;\">\n",
       "      <th></th>\n",
       "      <th>nome</th>\n",
       "      <th>idade</th>\n",
       "    </tr>\n",
       "  </thead>\n",
       "  <tbody>\n",
       "    <tr>\n",
       "      <th>0</th>\n",
       "      <td>Ana</td>\n",
       "      <td>22</td>\n",
       "    </tr>\n",
       "    <tr>\n",
       "      <th>1</th>\n",
       "      <td>Bruno</td>\n",
       "      <td>35</td>\n",
       "    </tr>\n",
       "    <tr>\n",
       "      <th>3</th>\n",
       "      <td>Diana</td>\n",
       "      <td>41</td>\n",
       "    </tr>\n",
       "    <tr>\n",
       "      <th>2</th>\n",
       "      <td>Carlos</td>\n",
       "      <td>58</td>\n",
       "    </tr>\n",
       "  </tbody>\n",
       "</table>\n",
       "</div>"
      ],
      "text/plain": [
       "     nome  idade\n",
       "0     Ana     22\n",
       "1   Bruno     35\n",
       "3   Diana     41\n",
       "2  Carlos     58"
      ]
     },
     "execution_count": 89,
     "metadata": {},
     "output_type": "execute_result"
    }
   ],
   "source": [
    "#Ordenar pela coluna idade\n",
    "\n",
    "df_ordenado = df_nomesidades.sort_values(by=\"idade\")\n",
    "df_ordenado"
   ]
  },
  {
   "cell_type": "code",
   "execution_count": 90,
   "id": "7d2157c9",
   "metadata": {},
   "outputs": [
    {
     "data": {
      "text/html": [
       "<div>\n",
       "<style scoped>\n",
       "    .dataframe tbody tr th:only-of-type {\n",
       "        vertical-align: middle;\n",
       "    }\n",
       "\n",
       "    .dataframe tbody tr th {\n",
       "        vertical-align: top;\n",
       "    }\n",
       "\n",
       "    .dataframe thead th {\n",
       "        text-align: right;\n",
       "    }\n",
       "</style>\n",
       "<table border=\"1\" class=\"dataframe\">\n",
       "  <thead>\n",
       "    <tr style=\"text-align: right;\">\n",
       "      <th></th>\n",
       "      <th>nome</th>\n",
       "      <th>idade</th>\n",
       "    </tr>\n",
       "  </thead>\n",
       "  <tbody>\n",
       "    <tr>\n",
       "      <th>2</th>\n",
       "      <td>Carlos</td>\n",
       "      <td>58</td>\n",
       "    </tr>\n",
       "    <tr>\n",
       "      <th>3</th>\n",
       "      <td>Diana</td>\n",
       "      <td>41</td>\n",
       "    </tr>\n",
       "    <tr>\n",
       "      <th>1</th>\n",
       "      <td>Bruno</td>\n",
       "      <td>35</td>\n",
       "    </tr>\n",
       "    <tr>\n",
       "      <th>0</th>\n",
       "      <td>Ana</td>\n",
       "      <td>22</td>\n",
       "    </tr>\n",
       "  </tbody>\n",
       "</table>\n",
       "</div>"
      ],
      "text/plain": [
       "     nome  idade\n",
       "2  Carlos     58\n",
       "3   Diana     41\n",
       "1   Bruno     35\n",
       "0     Ana     22"
      ]
     },
     "execution_count": 90,
     "metadata": {},
     "output_type": "execute_result"
    }
   ],
   "source": [
    "#Ordenar pela coluna idade descendente\n",
    "\n",
    "df_ordenado = df_nomesidades.sort_values(by=\"idade\", ascending=False)\n",
    "df_ordenado"
   ]
  },
  {
   "cell_type": "code",
   "execution_count": 91,
   "id": "8a0a1473",
   "metadata": {},
   "outputs": [
    {
     "data": {
      "text/html": [
       "<div>\n",
       "<style scoped>\n",
       "    .dataframe tbody tr th:only-of-type {\n",
       "        vertical-align: middle;\n",
       "    }\n",
       "\n",
       "    .dataframe tbody tr th {\n",
       "        vertical-align: top;\n",
       "    }\n",
       "\n",
       "    .dataframe thead th {\n",
       "        text-align: right;\n",
       "    }\n",
       "</style>\n",
       "<table border=\"1\" class=\"dataframe\">\n",
       "  <thead>\n",
       "    <tr style=\"text-align: right;\">\n",
       "      <th></th>\n",
       "      <th>nome</th>\n",
       "      <th>idade</th>\n",
       "    </tr>\n",
       "  </thead>\n",
       "  <tbody>\n",
       "    <tr>\n",
       "      <th>3</th>\n",
       "      <td>Diana</td>\n",
       "      <td>41</td>\n",
       "    </tr>\n",
       "    <tr>\n",
       "      <th>2</th>\n",
       "      <td>Carlos</td>\n",
       "      <td>58</td>\n",
       "    </tr>\n",
       "    <tr>\n",
       "      <th>1</th>\n",
       "      <td>Bruno</td>\n",
       "      <td>35</td>\n",
       "    </tr>\n",
       "    <tr>\n",
       "      <th>0</th>\n",
       "      <td>Ana</td>\n",
       "      <td>22</td>\n",
       "    </tr>\n",
       "  </tbody>\n",
       "</table>\n",
       "</div>"
      ],
      "text/plain": [
       "     nome  idade\n",
       "3   Diana     41\n",
       "2  Carlos     58\n",
       "1   Bruno     35\n",
       "0     Ana     22"
      ]
     },
     "execution_count": 91,
     "metadata": {},
     "output_type": "execute_result"
    }
   ],
   "source": [
    "df_ordenado_nome = df_nomesidades.sort_values(by=\"nome\", ascending = False)\n",
    "df_ordenado_nome"
   ]
  },
  {
   "cell_type": "code",
   "execution_count": 92,
   "id": "6b5b9536",
   "metadata": {},
   "outputs": [
    {
     "name": "stdout",
     "output_type": "stream",
     "text": [
      "       Nome  Idade   Profissao\n",
      "0       Ana     22  Engenheira\n",
      "1     Bruno     35      Médico\n",
      "2    Carlos     58   Professor\n",
      "3     Diana     41    Designer\n",
      "4   Eduardo     29  Engenheiro\n",
      "5  Fernanda     33    Designer\n",
      "\n",
      "Dados Filtrados: designers ou engenheiros com mais de 30 anos\n",
      "       Nome  Idade Profissao\n",
      "3     Diana     41  Designer\n",
      "5  Fernanda     33  Designer\n"
     ]
    }
   ],
   "source": [
    "# Criar um filtro\n",
    "\n",
    "dados = {\n",
    "'Nome': ['Ana', 'Bruno', 'Carlos', 'Diana', 'Eduardo', 'Fernanda'],\n",
    "'Idade': [22, 35, 58, 41, 29, 33],\n",
    "'Profissao': ['Engenheira', 'Médico', 'Professor', 'Designer', 'Engenheiro',\n",
    "'Designer']\n",
    "}\n",
    "\n",
    "df = pd.DataFrame(dados)\n",
    "print(df)\n",
    "# Condição: pessoas com idade > 30 E profissão Designer ou Engenheiro\n",
    "filtro = (df['Idade'] > 30) & ((df['Profissao'] == 'Designer') | (df['Profissao'] ==\n",
    "'Engenheiro'))\n",
    "resultado = df.loc[filtro]\n",
    "print(\"\\nDados Filtrados: designers ou engenheiros com mais de 30 anos\")\n",
    "print(resultado)\n",
    "\n"
   ]
  },
  {
   "cell_type": "code",
   "execution_count": 93,
   "id": "d165a3c0",
   "metadata": {},
   "outputs": [],
   "source": [
    "# .loc[] = chama pelo nome\n",
    "# .iloc[] = chama pela posição"
   ]
  },
  {
   "cell_type": "code",
   "execution_count": 94,
   "id": "bdae7b86",
   "metadata": {},
   "outputs": [
    {
     "name": "stdout",
     "output_type": "stream",
     "text": [
      "    Nome  Idade  Profissao\n",
      "0  False  False      False\n",
      "1  False   True      False\n",
      "2  False  False      False\n",
      "3  False   True      False\n",
      "4  False  False      False\n",
      "Número de valores ausentes em cada coluna: Nome         0\n",
      "Idade        2\n",
      "Profissao    0\n",
      "dtype: int64\n",
      "_______________________________\n",
      "Número de valores ausentes na coluna 'Idade': 2\n",
      "_______________________________\n",
      "     Nome  Idade   Profissao\n",
      "0     Ana   22.0  Engenheira\n",
      "1   Bruno   34.0      Médico\n",
      "2  Carlos   58.0   Professor\n",
      "3   Diana   34.0    Designer\n"
     ]
    }
   ],
   "source": [
    "dados = {\n",
    "'Nome': ['Ana', 'Bruno', 'Carlos', 'Diana', 'Ana'],\n",
    "'Idade': [22, None, 58, None, 22],\n",
    "'Profissao': ['Engenheira', 'Médico', 'Professor', 'Designer', 'Engenheira']\n",
    "}\n",
    "\n",
    "df = pd.DataFrame(dados)\n",
    "\n",
    "ausentes = df.isna()\n",
    "print(ausentes)\n",
    "\n",
    "# Contar valores ausentes em cada coluna\n",
    "num_nulos = df.isna().sum()\n",
    "print(f\"Número de valores ausentes em cada coluna: {num_nulos}\")\n",
    "print(\"_______________________________\")\n",
    " \n",
    "# Contar valores ausentes na coluna 'Idade'\n",
    "num_nulos_idd = df['Idade'].isna().sum()\n",
    "print(f\"Número de valores ausentes na coluna 'Idade': {num_nulos_idd}\")\n",
    "print(\"_______________________________\")\n",
    "\n",
    "# Preencher valores ausentes com a média da coluna 'Idade'\n",
    "media_idade = df['Idade'].mean()\n",
    "df['Idade'] = df['Idade'].fillna(media_idade)\n",
    "\n",
    "# Remover linhas duplicadas\n",
    "df = df.drop_duplicates()\n",
    "print(df)"
   ]
  },
  {
   "cell_type": "code",
   "execution_count": 95,
   "id": "63e45552",
   "metadata": {},
   "outputs": [
    {
     "name": "stdout",
     "output_type": "stream",
     "text": [
      "Index(['Nome', 'Idade', 'Profissao'], dtype='object')\n"
     ]
    },
    {
     "data": {
      "text/plain": [
       "[Text(0, 0, '2'), Text(0, 0, '1'), Text(0, 0, '1')]"
      ]
     },
     "execution_count": 95,
     "metadata": {},
     "output_type": "execute_result"
    },
    {
     "data": {
      "image/png": "[encoded data removed]",
      "text/plain": [
       "<Figure size 640x480 with 1 Axes>"
      ]
     },
     "metadata": {},
     "output_type": "display_data"
    }
   ],
   "source": [
    "import matplotlib as mt\n",
    "\n",
    "print(df.columns)\n",
    "\n",
    "gr = df['Idade'].value_counts().plot.bar()\n",
    "gr.bar_label(gr.containers[0])\n"
   ]
  },
  {
   "cell_type": "code",
   "execution_count": 99,
   "id": "2b4f7f5c",
   "metadata": {},
   "outputs": [
    {
     "data": {
      "image/png": "[encoded data removed]",
      "text/plain": [
       "<Figure size 640x480 with 1 Axes>"
      ]
     },
     "metadata": {},
     "output_type": "display_data"
    }
   ],
   "source": [
    "import numpy as np\n",
    "import matplotlib.pyplot as plt\n",
    "\n",
    "x = df[\"Nome\"]\n",
    "y = df[\"Idade\"]\n",
    "plt.plot(x, y)\n",
    "plt.show()"
   ]
  },
  {
   "cell_type": "code",
   "execution_count": 100,
   "id": "f3342d38",
   "metadata": {},
   "outputs": [
    {
     "name": "stdout",
     "output_type": "stream",
     "text": [
      "Dataframe original\n",
      "    Nome  Idade\n",
      "0  Alice     24\n",
      "1    Bob     30\n",
      "2  Alice     24\n",
      "3  David     22\n",
      "Mostrar linhas duplicadas (True ou False)\n",
      "0    False\n",
      "1    False\n",
      "2     True\n",
      "3    False\n",
      "dtype: bool\n",
      "______________________________________\n",
      "    Nome  Idade\n",
      "0  Alice     24\n",
      "1    Bob     30\n",
      "3  David     22\n",
      "______________________________________\n",
      "    Nome  Idade\n",
      "1    Bob     30\n",
      "2  Alice     24\n",
      "3  David     22\n",
      "______________________________________\n",
      "    Nome  Idade\n",
      "0  Alice     24\n",
      "1    Bob     30\n",
      "3  David     22\n"
     ]
    }
   ],
   "source": [
    "#Exemplo 2 - Duplicados\n",
    " \n",
    "import pandas as pd\n",
    " \n",
    "dados = {\n",
    "    'Nome': ['Alice', 'Bob', 'Alice', 'David'],\n",
    "    'Idade': [24, 30, 24, 22]\n",
    "}\n",
    "df = pd.DataFrame(dados)\n",
    "print(\"Dataframe original\")\n",
    "print(df)\n",
    " \n",
    "# Mostrar linhas duplicadas no DataFrame\n",
    "print(\"Mostrar linhas duplicadas (True ou False)\")\n",
    "print(df.duplicated())  # Retorna True para linhas duplicadas\n",
    "print(\"______________________________________\")\n",
    " \n",
    "# Remover duplicados, mantendo a primeira ocorrência\n",
    "df_unique = df.drop_duplicates()\n",
    "print(df_unique)\n",
    "print(\"______________________________________\")\n",
    " \n",
    "# Remover duplicados, mantendo a última ocorrência\n",
    "df_unique_last = df.drop_duplicates(keep='last')\n",
    "print(df_unique_last)\n",
    "print(\"______________________________________\")\n",
    " \n",
    " \n",
    "# Remover duplicadas baseando-se apenas na coluna 'Nome'\n",
    "df_unique_nome = df.drop_duplicates(subset=['Nome'])\n",
    "print(df_unique_nome)"
   ]
  },
  {
   "cell_type": "code",
   "execution_count": 102,
   "id": "b9529205",
   "metadata": {},
   "outputs": [
    {
     "name": "stdout",
     "output_type": "stream",
     "text": [
      "Dataframe original\n",
      "    Nome  Idade\n",
      "0  Alice     24\n",
      "1    Bob     30\n",
      "2  Alice     24\n",
      "3  David     22\n",
      "Mostrar linhas duplicadas (True ou False)\n",
      "0    False\n",
      "1    False\n",
      "2     True\n",
      "3    False\n",
      "dtype: bool\n",
      "______________________________________\n",
      "Sem duplicados, mantendo a primeira ocorrência\n",
      "    Nome  Idade\n",
      "0  Alice     24\n",
      "1    Bob     30\n",
      "3  David     22\n",
      "______________________________________\n",
      "Sem duplicados, mantendo a última ocorrência\n",
      "    Nome  Idade\n",
      "1    Bob     30\n",
      "2  Alice     24\n",
      "3  David     22\n",
      "______________________________________\n",
      "Dataframe novo,em que há duas Alices, com idades diferentes\n",
      "    Nome  Idade\n",
      "0  Alice     24\n",
      "1    Bob     30\n",
      "2  Alice     34\n",
      "3  David     22\n",
      "Sem nomes duplicados (independentemente do resto da linha)\n",
      "    Nome  Idade\n",
      "0  Alice     24\n",
      "1    Bob     30\n",
      "3  David     22\n"
     ]
    }
   ],
   "source": [
    "#Ex  2 atualizado \n",
    "import pandas as pd\n",
    " \n",
    "dados = {\n",
    "    'Nome': ['Alice', 'Bob', 'Alice', 'David'],\n",
    "    'Idade': [24, 30, 24, 22]\n",
    "}\n",
    "df = pd.DataFrame(dados)\n",
    "print(\"Dataframe original\")\n",
    "print(df)\n",
    " \n",
    "# Mostrar linhas duplicadas no DataFrame\n",
    "print(\"Mostrar linhas duplicadas (True ou False)\")\n",
    "print(df.duplicated())  # Retorna True para linhas duplicadas (True a partir da 2.ª ocorrência da linha duplicada)\n",
    "print(\"______________________________________\")\n",
    " \n",
    "# Remover duplicados, mantendo a primeira ocorrência\n",
    "df_unique = df.drop_duplicates()\n",
    "print(\"Sem duplicados, mantendo a primeira ocorrência\")\n",
    "print(df_unique)\n",
    "print(\"______________________________________\")\n",
    " \n",
    "# Remover duplicados, mantendo a última ocorrência\n",
    "print(\"Sem duplicados, mantendo a última ocorrência\")\n",
    "df_unique_last = df.drop_duplicates(keep='last')   # keep só aceita: last ou first (first por defeito)\n",
    "print(df_unique_last)\n",
    "print(\"______________________________________\")\n",
    " \n",
    " \n",
    "# Remover duplicadas baseando-se apenas na coluna 'Nome'\n",
    "dados2 = {\n",
    "    'Nome': ['Alice', 'Bob', 'Alice', 'David'],\n",
    "    'Idade': [24, 30, 34, 22]\n",
    "}\n",
    "df2 = pd.DataFrame(dados2)\n",
    "print(\"Dataframe novo,em que há duas Alices, com idades diferentes\")\n",
    "print(df2)\n",
    "df_unique_nome = df2.drop_duplicates(subset=['Nome'])\n",
    "print(\"Sem nomes duplicados (independentemente do resto da linha)\")\n",
    "print(df_unique_nome)\n",
    " \n",
    " "
   ]
  }
 ],
 "metadata": {
  "kernelspec": {
   "display_name": "base",
   "language": "python",
   "name": "python3"
  },
  "language_info": {
   "codemirror_mode": {
    "name": "ipython",
    "version": 3
   },
   "file_extension": ".py",
   "mimetype": "text/x-python",
   "name": "python",
   "nbconvert_exporter": "python",
   "pygments_lexer": "ipython3",
   "version": "3.12.7"
  }
 },
 "nbformat": 4,
 "nbformat_minor": 5
}
